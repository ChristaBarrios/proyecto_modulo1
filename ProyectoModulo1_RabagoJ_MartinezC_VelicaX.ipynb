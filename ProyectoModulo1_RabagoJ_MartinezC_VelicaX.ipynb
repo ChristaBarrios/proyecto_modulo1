{
  "cells": [
    {
      "cell_type": "markdown",
      "metadata": {
        "id": "YWwLgpXToWDA"
      },
      "source": [
        "___\n",
        "<img style=\"float: left; margin: 30px 15px 15px 15px;\" src=\"https://d33wubrfki0l68.cloudfront.net/4ec62c1c925a380c912ddad740d18554c6822a11/fabe4/img/sponsors/iteso-university.png\" width=\"300\" height=\"500\" />\n",
        "    \n",
        "    \n",
        "### <font color='navy'> Modelado de pronóstico de series de tiempo\n",
        "\n",
        "**Nombres:**\n",
        "- Judith Alejandra Hinojosa Rábago\n",
        "-\n",
        "-\n",
        "\n",
        "**Fecha:** 2 de mayo del 2024.\n",
        "\n",
        "**Expedientes:**\n",
        "- 737456\n",
        "-\n",
        "-\n",
        "\n",
        "**Profesor:** Oscar David Jaramillo Zuluaga.\n",
        "    \n",
        "**Link Github**: [https://github.com/judith-ale/proyecto_modulo1](https://github.com/judith-ale/proyecto_modulo1)\n",
        "\n",
        "# Proyecto Final: Detección de anomalías para el sistema de unidades de producción de aire de un tren"
      ]
    },
    {
      "cell_type": "markdown",
      "source": [
        "## Tabla de contenidos\n",
        "\n",
        "- [Portada](#Modelado-de-pronóstico-de-series-de-tiempo)\n",
        "- [1 Objetivos](#1-Objetivos-[volver])\n",
        "  - [1.1 Objetivo general](#1.1-Objetivo-general)\n",
        "  - [1.2 Objetivos específicos](#1.2-Objetivos-específicos)\n",
        "- [2 Definición del problema](#2-Definición-del-problema-[volver])\n",
        "- [3 Nodos y variables](#3-Nodos-y-variables-[volver])\n",
        "- [4 Obtención de la base de datos](#4-Obtención-de-la-base-de-datos-[volver])\n",
        "- [5 Visualización de resultados](#5-Visualización-de-resultados-[volver])\n",
        "- [6 Conclusiones](#6-Conclusiones-[volver])\n",
        "- [7 Referencias](#7-Referencias-[volver])\n",
        "\n",
        "***"
      ],
      "metadata": {
        "id": "fj4VoPTADq8U"
      }
    },
    {
      "cell_type": "markdown",
      "source": [
        "## 1 Objetivos [<small>[volver]</small>](#Contenido)\n",
        "\n",
        "> - Se refieren a los propósitos por los cuales se hace el trabajo.\n",
        "> - Deben ser **concretos, evaluables y verificables.**\n",
        "> - Deben ser escritos en infinitivo.\n",
        "\n",
        "### 1.1 Objetivo general\n",
        ">  - Fin último de estudio. Se formula atendiendo el propósito global del trabajo. No presenta detalles.\n",
        ">  - Se orienta a la totalidad del trabajo. Tiene que ver con el título del trabajo.\n",
        "\n",
        "### 1.1 Objetivos específicos\n",
        ">  - De forma detallada describen cada una de los componentes del trabajo.\n",
        ">  - En conjunto garantizan la consecución del objetivo general.\n",
        "\n",
        "***"
      ],
      "metadata": {
        "id": "ydMT3NthDXga"
      }
    },
    {
      "cell_type": "markdown",
      "source": [
        "## 2 Definición del problema [<small>[volver]</small>](#Contenido)\n",
        "> Se debe describir en una cuartilla máximo cuál es el escenario de negocio que se va a modelar, identificar cuáles son los supuestos que defines en el negocio y cuáles son los \"nodos\" o \"escenarios\" que identificas necesarios simular y porqué. Debes elaborar un diagrama de inicio a fin, identificando los \"nodos\" o \"escenarios\" a simular.\n",
        "\n",
        "***"
      ],
      "metadata": {
        "id": "S0Tfc_GMMuso"
      }
    },
    {
      "cell_type": "markdown",
      "source": [
        "## 3 Nodos y variables [<small>[volver]</small>](#Contenido)\n",
        "> En este apartado el objetivo es identificar los problemas que se van a abordar, para examinar la factibilidad y viabilidad de la simulación de los nodos escogidos. Posteriormente se debe de argumentar del porqué de los nodos escogidos.\n",
        "\n",
        "***"
      ],
      "metadata": {
        "id": "Q6xkBh6UMy-b"
      }
    },
    {
      "cell_type": "markdown",
      "source": [
        "## 4 Obtención de la base de datos [<small>[volver]</small>](#Contenido)\n",
        "\n",
        "> El tercer paso del proyecto es indicar de dónde se obtendrán las bases de datos, que indican como se han comportado las variables que identificaste en tu proceso de negocio que vas a simular. En esta investigación debes haber encontrado información propia de la empresa, organización o institución que vas a simular y otra parte de la información debe provenir de investigación que realices en fuentes de información públicas o privadas como las que tiene SECOBI, ahí normalmente y dependiendo del problema elegido, se investigan variables económicas, como tasas de interés, inflación, tipo de cambio, etc., de varios años, por poner un ejemplo.\n",
        "\n",
        "Los datos fueron obtenidos del repositorio de datos UC Irvine llamado [MetroPT-3 Dataset](https://archive.ics.uci.edu/dataset/791/metropt+3+dataset).\n",
        "\n",
        "De acuerdo con la página web: desde un tren del metro en un contexto operativo, se recopilaron lecturas de presión, temperatura, corriente del motor y válvulas de admisión de aire de la Unidad de Producción de Aire (APU) de un compresor. Este conjunto de datos revela desafíos reales de mantenimiento predictivo encontrados en la industria.\n",
        "\n",
        "El conjunto de datos fue recopilado para apoyar el desarrollo de modelos de mantenimiento predictivo, detección de anomalías y predicción del tiempo de vida útil restante (RUL) para compresores utilizando métodos de aprendizaje profundo y aprendizaje automático.\n",
        "\n",
        "Consiste en datos de series temporales multivariadas obtenidos de varios sensores analógicos y digitales instalados en el compresor de un tren. Los datos abarcan desde febrero hasta agosto de 2020 e incluyen 15 señales, como presiones, corriente del motor, temperatura del aceite y señales eléctricas de las válvulas de admisión de aire. El monitoreo y registro de eventos de equipos industriales, como el comportamiento temporal y los eventos de falla, se obtuvieron a partir de registros generados por los sensores. Los datos se registraron a 1Hz mediante un dispositivo integrado a bordo.\n",
        "\n",
        "Información de atributos:\n",
        "El conjunto de datos consta de 15,169,480 puntos de datos recopilados a 1Hz de febrero a agosto de 2020 y está descrito por 15 características de 7 sensores analógicos (1-7) y 8 sensores digitales (8-15):\n",
        "\n",
        "|No. | Nombre de variable | Atributo              | Descripción                                                                                                     |\n",
        "|-----|-----|-----------------------|-----------------------------------------------------------------------------------------------------------------|\n",
        "| 1 | `TP2`   | TP2 (bar)             | La medida de la presión en el compresor.                                                                       |\n",
        "| 2 | `TP3`   | TP3 (bar)             | La medida de la presión generada en el panel neumático.                                                        |\n",
        "| 3 | `H1`   | H1 (bar)              | La medida de la presión generada debido a la caída de presión cuando ocurre la descarga del filtro ciclónico.  |\n",
        "| 4 | `DV_pressure`   | Presión DV (bar)      | La medida de la caída de presión generada cuando las torres descargan aire seco.                               |\n",
        "| 5 | `Reservoirs`   | Depósitos (bar)       | La medida de la presión aguas abajo de los depósitos, debería estar cerca de la presión del panel neumático.   |\n",
        "| 6 | `Oil_temperature`   | Corriente del Motor (A) | La medida de la corriente de una fase del motor trifásico.                                                      |\n",
        "| 7 | `Motor_current`   | Temperatura del Aceite (ºC) | La medida de la temperatura del aceite en el compresor.                                                      |\n",
        "| 8 | `COMP`   | COMP                  | La señal eléctrica de la válvula de admisión de aire en el compresor.                                          |\n",
        "| 9 | `DV_eletric`   | DV Eléctrica          | La señal eléctrica que controla la válvula de salida del compresor.                                             |\n",
        "| 10 | `Towers`  | TORRES                | La señal eléctrica que define la torre responsable de secar el aire.                                            |\n",
        "| 11 | `MPG`  | MPG                   | La señal eléctrica responsable de arrancar el compresor bajo carga.                                             |\n",
        "| 12 | `LPS`  | LPS                   | La señal eléctrica que detecta y se activa cuando la presión cae por debajo de 7 bares.                         |\n",
        "| 13 | `Pressure_switch`  | Interruptor de Presión | La señal eléctrica que detecta la descarga en las torres de secado de aire.                                     |\n",
        "| 14 | `Oil_level`  | Nivel de Aceite       | La señal eléctrica que detecta el nivel de aceite en el compresor.                                              |\n",
        "| 15 | `Caudal_impulses`  | Impulso de Caudal     | La señal eléctrica que cuenta las salidas de pulso generadas por la cantidad de aire que fluye hacia los depósitos. |\n",
        "\n",
        "\n"
      ],
      "metadata": {
        "id": "n58mSVwXM5Ja"
      }
    },
    {
      "cell_type": "code",
      "source": [
        "from google.colab import drive\n",
        "drive.mount('/content/drive')\n",
        "\n",
        "%cd /content/drive/MyDrive/ITESO/24P/MODELOS NO LINEALES PARA PRONÓSTICOS/proyecto"
      ],
      "metadata": {
        "id": "LfEI29zU8hCY",
        "colab": {
          "base_uri": "https://localhost:8080/"
        },
        "outputId": "07fa05f7-046f-45b3-9d1b-c328c1f7886c"
      },
      "execution_count": 1,
      "outputs": [
        {
          "output_type": "stream",
          "name": "stdout",
          "text": [
            "Mounted at /content/drive\n",
            "/content/drive/MyDrive/ITESO/24P/MODELOS NO LINEALES PARA PRONÓSTICOS/proyecto\n"
          ]
        }
      ]
    },
    {
      "cell_type": "code",
      "source": [
        "pip install pmdarima"
      ],
      "metadata": {
        "id": "4cQPfp9pMZW6"
      },
      "execution_count": null,
      "outputs": []
    },
    {
      "cell_type": "markdown",
      "source": [
        "### Importación de librerías"
      ],
      "metadata": {
        "id": "4TlsUVMjTlJ3"
      }
    },
    {
      "cell_type": "code",
      "source": [
        "import pandas as pd\n",
        "import numpy as np\n",
        "import matplotlib.pyplot as plt\n",
        "\n",
        "from utils import LinearForecast\n",
        "\n",
        "# Ignorar warnings\n",
        "import warnings\n",
        "warnings.filterwarnings(\"ignore\")\n",
        "\n",
        "seed = 19\n",
        "\n",
        "np.random.seed(seed)"
      ],
      "metadata": {
        "id": "2TU2sg926khj"
      },
      "execution_count": 3,
      "outputs": []
    },
    {
      "cell_type": "markdown",
      "source": [
        "### Descripción general del dataset"
      ],
      "metadata": {
        "id": "Mc5PG_PKaHYc"
      }
    },
    {
      "cell_type": "code",
      "source": [
        "data = pd.read_csv(\"data/MetroPT3(AirCompressor).csv\")\n",
        "data.info()"
      ],
      "metadata": {
        "id": "sZwCd3LI6mN9",
        "outputId": "e08dffa8-df34-482b-fc9b-7cef0574b58d",
        "colab": {
          "base_uri": "https://localhost:8080/"
        }
      },
      "execution_count": 13,
      "outputs": [
        {
          "output_type": "stream",
          "name": "stdout",
          "text": [
            "<class 'pandas.core.frame.DataFrame'>\n",
            "RangeIndex: 1516948 entries, 0 to 1516947\n",
            "Data columns (total 17 columns):\n",
            " #   Column           Non-Null Count    Dtype  \n",
            "---  ------           --------------    -----  \n",
            " 0   Unnamed: 0       1516948 non-null  int64  \n",
            " 1   timestamp        1516948 non-null  object \n",
            " 2   TP2              1516948 non-null  float64\n",
            " 3   TP3              1516948 non-null  float64\n",
            " 4   H1               1516948 non-null  float64\n",
            " 5   DV_pressure      1516948 non-null  float64\n",
            " 6   Reservoirs       1516948 non-null  float64\n",
            " 7   Oil_temperature  1516948 non-null  float64\n",
            " 8   Motor_current    1516948 non-null  float64\n",
            " 9   COMP             1516948 non-null  float64\n",
            " 10  DV_eletric       1516948 non-null  float64\n",
            " 11  Towers           1516948 non-null  float64\n",
            " 12  MPG              1516948 non-null  float64\n",
            " 13  LPS              1516948 non-null  float64\n",
            " 14  Pressure_switch  1516948 non-null  float64\n",
            " 15  Oil_level        1516948 non-null  float64\n",
            " 16  Caudal_impulses  1516948 non-null  float64\n",
            "dtypes: float64(15), int64(1), object(1)\n",
            "memory usage: 196.7+ MB\n"
          ]
        }
      ]
    },
    {
      "cell_type": "code",
      "source": [
        "data"
      ],
      "metadata": {
        "id": "q0F9VRYlVJDr",
        "outputId": "540248a3-659c-4024-9f5a-a266a10e8fdd",
        "colab": {
          "base_uri": "https://localhost:8080/",
          "height": 635
        }
      },
      "execution_count": 14,
      "outputs": [
        {
          "output_type": "execute_result",
          "data": {
            "text/plain": [
              "         Unnamed: 0            timestamp    TP2    TP3     H1  DV_pressure  \\\n",
              "0                 0  2020-02-01 00:00:00 -0.012  9.358  9.340       -0.024   \n",
              "1                10  2020-02-01 00:00:10 -0.014  9.348  9.332       -0.022   \n",
              "2                20  2020-02-01 00:00:19 -0.012  9.338  9.322       -0.022   \n",
              "3                30  2020-02-01 00:00:29 -0.012  9.328  9.312       -0.022   \n",
              "4                40  2020-02-01 00:00:39 -0.012  9.318  9.302       -0.022   \n",
              "...             ...                  ...    ...    ...    ...          ...   \n",
              "1516943    15169430  2020-09-01 03:59:10 -0.014  8.918  8.906       -0.022   \n",
              "1516944    15169440  2020-09-01 03:59:20 -0.014  8.904  8.888       -0.020   \n",
              "1516945    15169450  2020-09-01 03:59:30 -0.014  8.890  8.876       -0.022   \n",
              "1516946    15169460  2020-09-01 03:59:40 -0.012  8.876  8.864       -0.022   \n",
              "1516947    15169470  2020-09-01 03:59:50 -0.014  8.860  8.848       -0.022   \n",
              "\n",
              "         Reservoirs  Oil_temperature  Motor_current  COMP  DV_eletric  Towers  \\\n",
              "0             9.358           53.600         0.0400   1.0         0.0     1.0   \n",
              "1             9.348           53.675         0.0400   1.0         0.0     1.0   \n",
              "2             9.338           53.600         0.0425   1.0         0.0     1.0   \n",
              "3             9.328           53.425         0.0400   1.0         0.0     1.0   \n",
              "4             9.318           53.475         0.0400   1.0         0.0     1.0   \n",
              "...             ...              ...            ...   ...         ...     ...   \n",
              "1516943       8.918           59.675         0.0425   1.0         0.0     1.0   \n",
              "1516944       8.904           59.600         0.0450   1.0         0.0     1.0   \n",
              "1516945       8.892           59.600         0.0425   1.0         0.0     1.0   \n",
              "1516946       8.878           59.550         0.0450   1.0         0.0     1.0   \n",
              "1516947       8.864           59.475         0.0425   1.0         0.0     1.0   \n",
              "\n",
              "         MPG  LPS  Pressure_switch  Oil_level  Caudal_impulses  \n",
              "0        1.0  0.0              1.0        1.0              1.0  \n",
              "1        1.0  0.0              1.0        1.0              1.0  \n",
              "2        1.0  0.0              1.0        1.0              1.0  \n",
              "3        1.0  0.0              1.0        1.0              1.0  \n",
              "4        1.0  0.0              1.0        1.0              1.0  \n",
              "...      ...  ...              ...        ...              ...  \n",
              "1516943  1.0  0.0              1.0        1.0              1.0  \n",
              "1516944  1.0  0.0              1.0        1.0              1.0  \n",
              "1516945  1.0  0.0              1.0        1.0              1.0  \n",
              "1516946  1.0  0.0              1.0        1.0              1.0  \n",
              "1516947  1.0  0.0              1.0        1.0              1.0  \n",
              "\n",
              "[1516948 rows x 17 columns]"
            ],
            "text/html": [
              "\n",
              "  <div id=\"df-4d4c70c6-2a1d-4f7d-869c-1fe664ef4ceb\" class=\"colab-df-container\">\n",
              "    <div>\n",
              "<style scoped>\n",
              "    .dataframe tbody tr th:only-of-type {\n",
              "        vertical-align: middle;\n",
              "    }\n",
              "\n",
              "    .dataframe tbody tr th {\n",
              "        vertical-align: top;\n",
              "    }\n",
              "\n",
              "    .dataframe thead th {\n",
              "        text-align: right;\n",
              "    }\n",
              "</style>\n",
              "<table border=\"1\" class=\"dataframe\">\n",
              "  <thead>\n",
              "    <tr style=\"text-align: right;\">\n",
              "      <th></th>\n",
              "      <th>Unnamed: 0</th>\n",
              "      <th>timestamp</th>\n",
              "      <th>TP2</th>\n",
              "      <th>TP3</th>\n",
              "      <th>H1</th>\n",
              "      <th>DV_pressure</th>\n",
              "      <th>Reservoirs</th>\n",
              "      <th>Oil_temperature</th>\n",
              "      <th>Motor_current</th>\n",
              "      <th>COMP</th>\n",
              "      <th>DV_eletric</th>\n",
              "      <th>Towers</th>\n",
              "      <th>MPG</th>\n",
              "      <th>LPS</th>\n",
              "      <th>Pressure_switch</th>\n",
              "      <th>Oil_level</th>\n",
              "      <th>Caudal_impulses</th>\n",
              "    </tr>\n",
              "  </thead>\n",
              "  <tbody>\n",
              "    <tr>\n",
              "      <th>0</th>\n",
              "      <td>0</td>\n",
              "      <td>2020-02-01 00:00:00</td>\n",
              "      <td>-0.012</td>\n",
              "      <td>9.358</td>\n",
              "      <td>9.340</td>\n",
              "      <td>-0.024</td>\n",
              "      <td>9.358</td>\n",
              "      <td>53.600</td>\n",
              "      <td>0.0400</td>\n",
              "      <td>1.0</td>\n",
              "      <td>0.0</td>\n",
              "      <td>1.0</td>\n",
              "      <td>1.0</td>\n",
              "      <td>0.0</td>\n",
              "      <td>1.0</td>\n",
              "      <td>1.0</td>\n",
              "      <td>1.0</td>\n",
              "    </tr>\n",
              "    <tr>\n",
              "      <th>1</th>\n",
              "      <td>10</td>\n",
              "      <td>2020-02-01 00:00:10</td>\n",
              "      <td>-0.014</td>\n",
              "      <td>9.348</td>\n",
              "      <td>9.332</td>\n",
              "      <td>-0.022</td>\n",
              "      <td>9.348</td>\n",
              "      <td>53.675</td>\n",
              "      <td>0.0400</td>\n",
              "      <td>1.0</td>\n",
              "      <td>0.0</td>\n",
              "      <td>1.0</td>\n",
              "      <td>1.0</td>\n",
              "      <td>0.0</td>\n",
              "      <td>1.0</td>\n",
              "      <td>1.0</td>\n",
              "      <td>1.0</td>\n",
              "    </tr>\n",
              "    <tr>\n",
              "      <th>2</th>\n",
              "      <td>20</td>\n",
              "      <td>2020-02-01 00:00:19</td>\n",
              "      <td>-0.012</td>\n",
              "      <td>9.338</td>\n",
              "      <td>9.322</td>\n",
              "      <td>-0.022</td>\n",
              "      <td>9.338</td>\n",
              "      <td>53.600</td>\n",
              "      <td>0.0425</td>\n",
              "      <td>1.0</td>\n",
              "      <td>0.0</td>\n",
              "      <td>1.0</td>\n",
              "      <td>1.0</td>\n",
              "      <td>0.0</td>\n",
              "      <td>1.0</td>\n",
              "      <td>1.0</td>\n",
              "      <td>1.0</td>\n",
              "    </tr>\n",
              "    <tr>\n",
              "      <th>3</th>\n",
              "      <td>30</td>\n",
              "      <td>2020-02-01 00:00:29</td>\n",
              "      <td>-0.012</td>\n",
              "      <td>9.328</td>\n",
              "      <td>9.312</td>\n",
              "      <td>-0.022</td>\n",
              "      <td>9.328</td>\n",
              "      <td>53.425</td>\n",
              "      <td>0.0400</td>\n",
              "      <td>1.0</td>\n",
              "      <td>0.0</td>\n",
              "      <td>1.0</td>\n",
              "      <td>1.0</td>\n",
              "      <td>0.0</td>\n",
              "      <td>1.0</td>\n",
              "      <td>1.0</td>\n",
              "      <td>1.0</td>\n",
              "    </tr>\n",
              "    <tr>\n",
              "      <th>4</th>\n",
              "      <td>40</td>\n",
              "      <td>2020-02-01 00:00:39</td>\n",
              "      <td>-0.012</td>\n",
              "      <td>9.318</td>\n",
              "      <td>9.302</td>\n",
              "      <td>-0.022</td>\n",
              "      <td>9.318</td>\n",
              "      <td>53.475</td>\n",
              "      <td>0.0400</td>\n",
              "      <td>1.0</td>\n",
              "      <td>0.0</td>\n",
              "      <td>1.0</td>\n",
              "      <td>1.0</td>\n",
              "      <td>0.0</td>\n",
              "      <td>1.0</td>\n",
              "      <td>1.0</td>\n",
              "      <td>1.0</td>\n",
              "    </tr>\n",
              "    <tr>\n",
              "      <th>...</th>\n",
              "      <td>...</td>\n",
              "      <td>...</td>\n",
              "      <td>...</td>\n",
              "      <td>...</td>\n",
              "      <td>...</td>\n",
              "      <td>...</td>\n",
              "      <td>...</td>\n",
              "      <td>...</td>\n",
              "      <td>...</td>\n",
              "      <td>...</td>\n",
              "      <td>...</td>\n",
              "      <td>...</td>\n",
              "      <td>...</td>\n",
              "      <td>...</td>\n",
              "      <td>...</td>\n",
              "      <td>...</td>\n",
              "      <td>...</td>\n",
              "    </tr>\n",
              "    <tr>\n",
              "      <th>1516943</th>\n",
              "      <td>15169430</td>\n",
              "      <td>2020-09-01 03:59:10</td>\n",
              "      <td>-0.014</td>\n",
              "      <td>8.918</td>\n",
              "      <td>8.906</td>\n",
              "      <td>-0.022</td>\n",
              "      <td>8.918</td>\n",
              "      <td>59.675</td>\n",
              "      <td>0.0425</td>\n",
              "      <td>1.0</td>\n",
              "      <td>0.0</td>\n",
              "      <td>1.0</td>\n",
              "      <td>1.0</td>\n",
              "      <td>0.0</td>\n",
              "      <td>1.0</td>\n",
              "      <td>1.0</td>\n",
              "      <td>1.0</td>\n",
              "    </tr>\n",
              "    <tr>\n",
              "      <th>1516944</th>\n",
              "      <td>15169440</td>\n",
              "      <td>2020-09-01 03:59:20</td>\n",
              "      <td>-0.014</td>\n",
              "      <td>8.904</td>\n",
              "      <td>8.888</td>\n",
              "      <td>-0.020</td>\n",
              "      <td>8.904</td>\n",
              "      <td>59.600</td>\n",
              "      <td>0.0450</td>\n",
              "      <td>1.0</td>\n",
              "      <td>0.0</td>\n",
              "      <td>1.0</td>\n",
              "      <td>1.0</td>\n",
              "      <td>0.0</td>\n",
              "      <td>1.0</td>\n",
              "      <td>1.0</td>\n",
              "      <td>1.0</td>\n",
              "    </tr>\n",
              "    <tr>\n",
              "      <th>1516945</th>\n",
              "      <td>15169450</td>\n",
              "      <td>2020-09-01 03:59:30</td>\n",
              "      <td>-0.014</td>\n",
              "      <td>8.890</td>\n",
              "      <td>8.876</td>\n",
              "      <td>-0.022</td>\n",
              "      <td>8.892</td>\n",
              "      <td>59.600</td>\n",
              "      <td>0.0425</td>\n",
              "      <td>1.0</td>\n",
              "      <td>0.0</td>\n",
              "      <td>1.0</td>\n",
              "      <td>1.0</td>\n",
              "      <td>0.0</td>\n",
              "      <td>1.0</td>\n",
              "      <td>1.0</td>\n",
              "      <td>1.0</td>\n",
              "    </tr>\n",
              "    <tr>\n",
              "      <th>1516946</th>\n",
              "      <td>15169460</td>\n",
              "      <td>2020-09-01 03:59:40</td>\n",
              "      <td>-0.012</td>\n",
              "      <td>8.876</td>\n",
              "      <td>8.864</td>\n",
              "      <td>-0.022</td>\n",
              "      <td>8.878</td>\n",
              "      <td>59.550</td>\n",
              "      <td>0.0450</td>\n",
              "      <td>1.0</td>\n",
              "      <td>0.0</td>\n",
              "      <td>1.0</td>\n",
              "      <td>1.0</td>\n",
              "      <td>0.0</td>\n",
              "      <td>1.0</td>\n",
              "      <td>1.0</td>\n",
              "      <td>1.0</td>\n",
              "    </tr>\n",
              "    <tr>\n",
              "      <th>1516947</th>\n",
              "      <td>15169470</td>\n",
              "      <td>2020-09-01 03:59:50</td>\n",
              "      <td>-0.014</td>\n",
              "      <td>8.860</td>\n",
              "      <td>8.848</td>\n",
              "      <td>-0.022</td>\n",
              "      <td>8.864</td>\n",
              "      <td>59.475</td>\n",
              "      <td>0.0425</td>\n",
              "      <td>1.0</td>\n",
              "      <td>0.0</td>\n",
              "      <td>1.0</td>\n",
              "      <td>1.0</td>\n",
              "      <td>0.0</td>\n",
              "      <td>1.0</td>\n",
              "      <td>1.0</td>\n",
              "      <td>1.0</td>\n",
              "    </tr>\n",
              "  </tbody>\n",
              "</table>\n",
              "<p>1516948 rows × 17 columns</p>\n",
              "</div>\n",
              "    <div class=\"colab-df-buttons\">\n",
              "\n",
              "  <div class=\"colab-df-container\">\n",
              "    <button class=\"colab-df-convert\" onclick=\"convertToInteractive('df-4d4c70c6-2a1d-4f7d-869c-1fe664ef4ceb')\"\n",
              "            title=\"Convert this dataframe to an interactive table.\"\n",
              "            style=\"display:none;\">\n",
              "\n",
              "  <svg xmlns=\"http://www.w3.org/2000/svg\" height=\"24px\" viewBox=\"0 -960 960 960\">\n",
              "    <path d=\"M120-120v-720h720v720H120Zm60-500h600v-160H180v160Zm220 220h160v-160H400v160Zm0 220h160v-160H400v160ZM180-400h160v-160H180v160Zm440 0h160v-160H620v160ZM180-180h160v-160H180v160Zm440 0h160v-160H620v160Z\"/>\n",
              "  </svg>\n",
              "    </button>\n",
              "\n",
              "  <style>\n",
              "    .colab-df-container {\n",
              "      display:flex;\n",
              "      gap: 12px;\n",
              "    }\n",
              "\n",
              "    .colab-df-convert {\n",
              "      background-color: #E8F0FE;\n",
              "      border: none;\n",
              "      border-radius: 50%;\n",
              "      cursor: pointer;\n",
              "      display: none;\n",
              "      fill: #1967D2;\n",
              "      height: 32px;\n",
              "      padding: 0 0 0 0;\n",
              "      width: 32px;\n",
              "    }\n",
              "\n",
              "    .colab-df-convert:hover {\n",
              "      background-color: #E2EBFA;\n",
              "      box-shadow: 0px 1px 2px rgba(60, 64, 67, 0.3), 0px 1px 3px 1px rgba(60, 64, 67, 0.15);\n",
              "      fill: #174EA6;\n",
              "    }\n",
              "\n",
              "    .colab-df-buttons div {\n",
              "      margin-bottom: 4px;\n",
              "    }\n",
              "\n",
              "    [theme=dark] .colab-df-convert {\n",
              "      background-color: #3B4455;\n",
              "      fill: #D2E3FC;\n",
              "    }\n",
              "\n",
              "    [theme=dark] .colab-df-convert:hover {\n",
              "      background-color: #434B5C;\n",
              "      box-shadow: 0px 1px 3px 1px rgba(0, 0, 0, 0.15);\n",
              "      filter: drop-shadow(0px 1px 2px rgba(0, 0, 0, 0.3));\n",
              "      fill: #FFFFFF;\n",
              "    }\n",
              "  </style>\n",
              "\n",
              "    <script>\n",
              "      const buttonEl =\n",
              "        document.querySelector('#df-4d4c70c6-2a1d-4f7d-869c-1fe664ef4ceb button.colab-df-convert');\n",
              "      buttonEl.style.display =\n",
              "        google.colab.kernel.accessAllowed ? 'block' : 'none';\n",
              "\n",
              "      async function convertToInteractive(key) {\n",
              "        const element = document.querySelector('#df-4d4c70c6-2a1d-4f7d-869c-1fe664ef4ceb');\n",
              "        const dataTable =\n",
              "          await google.colab.kernel.invokeFunction('convertToInteractive',\n",
              "                                                    [key], {});\n",
              "        if (!dataTable) return;\n",
              "\n",
              "        const docLinkHtml = 'Like what you see? Visit the ' +\n",
              "          '<a target=\"_blank\" href=https://colab.research.google.com/notebooks/data_table.ipynb>data table notebook</a>'\n",
              "          + ' to learn more about interactive tables.';\n",
              "        element.innerHTML = '';\n",
              "        dataTable['output_type'] = 'display_data';\n",
              "        await google.colab.output.renderOutput(dataTable, element);\n",
              "        const docLink = document.createElement('div');\n",
              "        docLink.innerHTML = docLinkHtml;\n",
              "        element.appendChild(docLink);\n",
              "      }\n",
              "    </script>\n",
              "  </div>\n",
              "\n",
              "\n",
              "<div id=\"df-fe02cf5c-419a-4d66-bfbc-0c7fbd702623\">\n",
              "  <button class=\"colab-df-quickchart\" onclick=\"quickchart('df-fe02cf5c-419a-4d66-bfbc-0c7fbd702623')\"\n",
              "            title=\"Suggest charts\"\n",
              "            style=\"display:none;\">\n",
              "\n",
              "<svg xmlns=\"http://www.w3.org/2000/svg\" height=\"24px\"viewBox=\"0 0 24 24\"\n",
              "     width=\"24px\">\n",
              "    <g>\n",
              "        <path d=\"M19 3H5c-1.1 0-2 .9-2 2v14c0 1.1.9 2 2 2h14c1.1 0 2-.9 2-2V5c0-1.1-.9-2-2-2zM9 17H7v-7h2v7zm4 0h-2V7h2v10zm4 0h-2v-4h2v4z\"/>\n",
              "    </g>\n",
              "</svg>\n",
              "  </button>\n",
              "\n",
              "<style>\n",
              "  .colab-df-quickchart {\n",
              "      --bg-color: #E8F0FE;\n",
              "      --fill-color: #1967D2;\n",
              "      --hover-bg-color: #E2EBFA;\n",
              "      --hover-fill-color: #174EA6;\n",
              "      --disabled-fill-color: #AAA;\n",
              "      --disabled-bg-color: #DDD;\n",
              "  }\n",
              "\n",
              "  [theme=dark] .colab-df-quickchart {\n",
              "      --bg-color: #3B4455;\n",
              "      --fill-color: #D2E3FC;\n",
              "      --hover-bg-color: #434B5C;\n",
              "      --hover-fill-color: #FFFFFF;\n",
              "      --disabled-bg-color: #3B4455;\n",
              "      --disabled-fill-color: #666;\n",
              "  }\n",
              "\n",
              "  .colab-df-quickchart {\n",
              "    background-color: var(--bg-color);\n",
              "    border: none;\n",
              "    border-radius: 50%;\n",
              "    cursor: pointer;\n",
              "    display: none;\n",
              "    fill: var(--fill-color);\n",
              "    height: 32px;\n",
              "    padding: 0;\n",
              "    width: 32px;\n",
              "  }\n",
              "\n",
              "  .colab-df-quickchart:hover {\n",
              "    background-color: var(--hover-bg-color);\n",
              "    box-shadow: 0 1px 2px rgba(60, 64, 67, 0.3), 0 1px 3px 1px rgba(60, 64, 67, 0.15);\n",
              "    fill: var(--button-hover-fill-color);\n",
              "  }\n",
              "\n",
              "  .colab-df-quickchart-complete:disabled,\n",
              "  .colab-df-quickchart-complete:disabled:hover {\n",
              "    background-color: var(--disabled-bg-color);\n",
              "    fill: var(--disabled-fill-color);\n",
              "    box-shadow: none;\n",
              "  }\n",
              "\n",
              "  .colab-df-spinner {\n",
              "    border: 2px solid var(--fill-color);\n",
              "    border-color: transparent;\n",
              "    border-bottom-color: var(--fill-color);\n",
              "    animation:\n",
              "      spin 1s steps(1) infinite;\n",
              "  }\n",
              "\n",
              "  @keyframes spin {\n",
              "    0% {\n",
              "      border-color: transparent;\n",
              "      border-bottom-color: var(--fill-color);\n",
              "      border-left-color: var(--fill-color);\n",
              "    }\n",
              "    20% {\n",
              "      border-color: transparent;\n",
              "      border-left-color: var(--fill-color);\n",
              "      border-top-color: var(--fill-color);\n",
              "    }\n",
              "    30% {\n",
              "      border-color: transparent;\n",
              "      border-left-color: var(--fill-color);\n",
              "      border-top-color: var(--fill-color);\n",
              "      border-right-color: var(--fill-color);\n",
              "    }\n",
              "    40% {\n",
              "      border-color: transparent;\n",
              "      border-right-color: var(--fill-color);\n",
              "      border-top-color: var(--fill-color);\n",
              "    }\n",
              "    60% {\n",
              "      border-color: transparent;\n",
              "      border-right-color: var(--fill-color);\n",
              "    }\n",
              "    80% {\n",
              "      border-color: transparent;\n",
              "      border-right-color: var(--fill-color);\n",
              "      border-bottom-color: var(--fill-color);\n",
              "    }\n",
              "    90% {\n",
              "      border-color: transparent;\n",
              "      border-bottom-color: var(--fill-color);\n",
              "    }\n",
              "  }\n",
              "</style>\n",
              "\n",
              "  <script>\n",
              "    async function quickchart(key) {\n",
              "      const quickchartButtonEl =\n",
              "        document.querySelector('#' + key + ' button');\n",
              "      quickchartButtonEl.disabled = true;  // To prevent multiple clicks.\n",
              "      quickchartButtonEl.classList.add('colab-df-spinner');\n",
              "      try {\n",
              "        const charts = await google.colab.kernel.invokeFunction(\n",
              "            'suggestCharts', [key], {});\n",
              "      } catch (error) {\n",
              "        console.error('Error during call to suggestCharts:', error);\n",
              "      }\n",
              "      quickchartButtonEl.classList.remove('colab-df-spinner');\n",
              "      quickchartButtonEl.classList.add('colab-df-quickchart-complete');\n",
              "    }\n",
              "    (() => {\n",
              "      let quickchartButtonEl =\n",
              "        document.querySelector('#df-fe02cf5c-419a-4d66-bfbc-0c7fbd702623 button');\n",
              "      quickchartButtonEl.style.display =\n",
              "        google.colab.kernel.accessAllowed ? 'block' : 'none';\n",
              "    })();\n",
              "  </script>\n",
              "</div>\n",
              "\n",
              "  <div id=\"id_462ae41d-9ff6-42bd-8217-933e9ef4d4ea\">\n",
              "    <style>\n",
              "      .colab-df-generate {\n",
              "        background-color: #E8F0FE;\n",
              "        border: none;\n",
              "        border-radius: 50%;\n",
              "        cursor: pointer;\n",
              "        display: none;\n",
              "        fill: #1967D2;\n",
              "        height: 32px;\n",
              "        padding: 0 0 0 0;\n",
              "        width: 32px;\n",
              "      }\n",
              "\n",
              "      .colab-df-generate:hover {\n",
              "        background-color: #E2EBFA;\n",
              "        box-shadow: 0px 1px 2px rgba(60, 64, 67, 0.3), 0px 1px 3px 1px rgba(60, 64, 67, 0.15);\n",
              "        fill: #174EA6;\n",
              "      }\n",
              "\n",
              "      [theme=dark] .colab-df-generate {\n",
              "        background-color: #3B4455;\n",
              "        fill: #D2E3FC;\n",
              "      }\n",
              "\n",
              "      [theme=dark] .colab-df-generate:hover {\n",
              "        background-color: #434B5C;\n",
              "        box-shadow: 0px 1px 3px 1px rgba(0, 0, 0, 0.15);\n",
              "        filter: drop-shadow(0px 1px 2px rgba(0, 0, 0, 0.3));\n",
              "        fill: #FFFFFF;\n",
              "      }\n",
              "    </style>\n",
              "    <button class=\"colab-df-generate\" onclick=\"generateWithVariable('data')\"\n",
              "            title=\"Generate code using this dataframe.\"\n",
              "            style=\"display:none;\">\n",
              "\n",
              "  <svg xmlns=\"http://www.w3.org/2000/svg\" height=\"24px\"viewBox=\"0 0 24 24\"\n",
              "       width=\"24px\">\n",
              "    <path d=\"M7,19H8.4L18.45,9,17,7.55,7,17.6ZM5,21V16.75L18.45,3.32a2,2,0,0,1,2.83,0l1.4,1.43a1.91,1.91,0,0,1,.58,1.4,1.91,1.91,0,0,1-.58,1.4L9.25,21ZM18.45,9,17,7.55Zm-12,3A5.31,5.31,0,0,0,4.9,8.1,5.31,5.31,0,0,0,1,6.5,5.31,5.31,0,0,0,4.9,4.9,5.31,5.31,0,0,0,6.5,1,5.31,5.31,0,0,0,8.1,4.9,5.31,5.31,0,0,0,12,6.5,5.46,5.46,0,0,0,6.5,12Z\"/>\n",
              "  </svg>\n",
              "    </button>\n",
              "    <script>\n",
              "      (() => {\n",
              "      const buttonEl =\n",
              "        document.querySelector('#id_462ae41d-9ff6-42bd-8217-933e9ef4d4ea button.colab-df-generate');\n",
              "      buttonEl.style.display =\n",
              "        google.colab.kernel.accessAllowed ? 'block' : 'none';\n",
              "\n",
              "      buttonEl.onclick = () => {\n",
              "        google.colab.notebook.generateWithVariable('data');\n",
              "      }\n",
              "      })();\n",
              "    </script>\n",
              "  </div>\n",
              "\n",
              "    </div>\n",
              "  </div>\n"
            ],
            "application/vnd.google.colaboratory.intrinsic+json": {
              "type": "dataframe",
              "variable_name": "data"
            }
          },
          "metadata": {},
          "execution_count": 14
        }
      ]
    },
    {
      "cell_type": "code",
      "source": [
        "data.describe().round(3)"
      ],
      "metadata": {
        "id": "htb7ePdVUaRV",
        "outputId": "6acd44fe-570d-4aa1-c65c-9d86f19cef46",
        "colab": {
          "base_uri": "https://localhost:8080/",
          "height": 320
        }
      },
      "execution_count": 15,
      "outputs": [
        {
          "output_type": "execute_result",
          "data": {
            "text/plain": [
              "         Unnamed: 0          TP2          TP3           H1  DV_pressure  \\\n",
              "count  1.516948e+06  1516948.000  1516948.000  1516948.000  1516948.000   \n",
              "mean   7.584735e+06        1.368        8.985        7.568        0.056   \n",
              "std    4.379053e+06        3.251        0.639        3.333        0.382   \n",
              "min    0.000000e+00       -0.032        0.730       -0.036       -0.032   \n",
              "25%    3.792368e+06       -0.014        8.492        8.254       -0.022   \n",
              "50%    7.584735e+06       -0.012        8.960        8.784       -0.020   \n",
              "75%    1.137710e+07       -0.010        9.492        9.374       -0.018   \n",
              "max    1.516947e+07       10.676       10.302       10.288        9.844   \n",
              "\n",
              "        Reservoirs  Oil_temperature  Motor_current         COMP   DV_eletric  \\\n",
              "count  1516948.000      1516948.000    1516948.000  1516948.000  1516948.000   \n",
              "mean         8.985           62.644          2.050        0.837        0.161   \n",
              "std          0.638            6.516          2.302        0.369        0.367   \n",
              "min          0.712           15.400          0.020        0.000        0.000   \n",
              "25%          8.494           57.775          0.040        1.000        0.000   \n",
              "50%          8.960           62.700          0.045        1.000        0.000   \n",
              "75%          9.492           67.250          3.808        1.000        0.000   \n",
              "max         10.300           89.050          9.295        1.000        1.000   \n",
              "\n",
              "            Towers          MPG          LPS  Pressure_switch    Oil_level  \\\n",
              "count  1516948.000  1516948.000  1516948.000      1516948.000  1516948.000   \n",
              "mean         0.920        0.833        0.003            0.991        0.904   \n",
              "std          0.272        0.373        0.058            0.092        0.294   \n",
              "min          0.000        0.000        0.000            0.000        0.000   \n",
              "25%          1.000        1.000        0.000            1.000        1.000   \n",
              "50%          1.000        1.000        0.000            1.000        1.000   \n",
              "75%          1.000        1.000        0.000            1.000        1.000   \n",
              "max          1.000        1.000        1.000            1.000        1.000   \n",
              "\n",
              "       Caudal_impulses  \n",
              "count      1516948.000  \n",
              "mean             0.937  \n",
              "std              0.243  \n",
              "min              0.000  \n",
              "25%              1.000  \n",
              "50%              1.000  \n",
              "75%              1.000  \n",
              "max              1.000  "
            ],
            "text/html": [
              "\n",
              "  <div id=\"df-71d0f8a7-2ffc-4388-8fa9-6bed00e37bdc\" class=\"colab-df-container\">\n",
              "    <div>\n",
              "<style scoped>\n",
              "    .dataframe tbody tr th:only-of-type {\n",
              "        vertical-align: middle;\n",
              "    }\n",
              "\n",
              "    .dataframe tbody tr th {\n",
              "        vertical-align: top;\n",
              "    }\n",
              "\n",
              "    .dataframe thead th {\n",
              "        text-align: right;\n",
              "    }\n",
              "</style>\n",
              "<table border=\"1\" class=\"dataframe\">\n",
              "  <thead>\n",
              "    <tr style=\"text-align: right;\">\n",
              "      <th></th>\n",
              "      <th>Unnamed: 0</th>\n",
              "      <th>TP2</th>\n",
              "      <th>TP3</th>\n",
              "      <th>H1</th>\n",
              "      <th>DV_pressure</th>\n",
              "      <th>Reservoirs</th>\n",
              "      <th>Oil_temperature</th>\n",
              "      <th>Motor_current</th>\n",
              "      <th>COMP</th>\n",
              "      <th>DV_eletric</th>\n",
              "      <th>Towers</th>\n",
              "      <th>MPG</th>\n",
              "      <th>LPS</th>\n",
              "      <th>Pressure_switch</th>\n",
              "      <th>Oil_level</th>\n",
              "      <th>Caudal_impulses</th>\n",
              "    </tr>\n",
              "  </thead>\n",
              "  <tbody>\n",
              "    <tr>\n",
              "      <th>count</th>\n",
              "      <td>1.516948e+06</td>\n",
              "      <td>1516948.000</td>\n",
              "      <td>1516948.000</td>\n",
              "      <td>1516948.000</td>\n",
              "      <td>1516948.000</td>\n",
              "      <td>1516948.000</td>\n",
              "      <td>1516948.000</td>\n",
              "      <td>1516948.000</td>\n",
              "      <td>1516948.000</td>\n",
              "      <td>1516948.000</td>\n",
              "      <td>1516948.000</td>\n",
              "      <td>1516948.000</td>\n",
              "      <td>1516948.000</td>\n",
              "      <td>1516948.000</td>\n",
              "      <td>1516948.000</td>\n",
              "      <td>1516948.000</td>\n",
              "    </tr>\n",
              "    <tr>\n",
              "      <th>mean</th>\n",
              "      <td>7.584735e+06</td>\n",
              "      <td>1.368</td>\n",
              "      <td>8.985</td>\n",
              "      <td>7.568</td>\n",
              "      <td>0.056</td>\n",
              "      <td>8.985</td>\n",
              "      <td>62.644</td>\n",
              "      <td>2.050</td>\n",
              "      <td>0.837</td>\n",
              "      <td>0.161</td>\n",
              "      <td>0.920</td>\n",
              "      <td>0.833</td>\n",
              "      <td>0.003</td>\n",
              "      <td>0.991</td>\n",
              "      <td>0.904</td>\n",
              "      <td>0.937</td>\n",
              "    </tr>\n",
              "    <tr>\n",
              "      <th>std</th>\n",
              "      <td>4.379053e+06</td>\n",
              "      <td>3.251</td>\n",
              "      <td>0.639</td>\n",
              "      <td>3.333</td>\n",
              "      <td>0.382</td>\n",
              "      <td>0.638</td>\n",
              "      <td>6.516</td>\n",
              "      <td>2.302</td>\n",
              "      <td>0.369</td>\n",
              "      <td>0.367</td>\n",
              "      <td>0.272</td>\n",
              "      <td>0.373</td>\n",
              "      <td>0.058</td>\n",
              "      <td>0.092</td>\n",
              "      <td>0.294</td>\n",
              "      <td>0.243</td>\n",
              "    </tr>\n",
              "    <tr>\n",
              "      <th>min</th>\n",
              "      <td>0.000000e+00</td>\n",
              "      <td>-0.032</td>\n",
              "      <td>0.730</td>\n",
              "      <td>-0.036</td>\n",
              "      <td>-0.032</td>\n",
              "      <td>0.712</td>\n",
              "      <td>15.400</td>\n",
              "      <td>0.020</td>\n",
              "      <td>0.000</td>\n",
              "      <td>0.000</td>\n",
              "      <td>0.000</td>\n",
              "      <td>0.000</td>\n",
              "      <td>0.000</td>\n",
              "      <td>0.000</td>\n",
              "      <td>0.000</td>\n",
              "      <td>0.000</td>\n",
              "    </tr>\n",
              "    <tr>\n",
              "      <th>25%</th>\n",
              "      <td>3.792368e+06</td>\n",
              "      <td>-0.014</td>\n",
              "      <td>8.492</td>\n",
              "      <td>8.254</td>\n",
              "      <td>-0.022</td>\n",
              "      <td>8.494</td>\n",
              "      <td>57.775</td>\n",
              "      <td>0.040</td>\n",
              "      <td>1.000</td>\n",
              "      <td>0.000</td>\n",
              "      <td>1.000</td>\n",
              "      <td>1.000</td>\n",
              "      <td>0.000</td>\n",
              "      <td>1.000</td>\n",
              "      <td>1.000</td>\n",
              "      <td>1.000</td>\n",
              "    </tr>\n",
              "    <tr>\n",
              "      <th>50%</th>\n",
              "      <td>7.584735e+06</td>\n",
              "      <td>-0.012</td>\n",
              "      <td>8.960</td>\n",
              "      <td>8.784</td>\n",
              "      <td>-0.020</td>\n",
              "      <td>8.960</td>\n",
              "      <td>62.700</td>\n",
              "      <td>0.045</td>\n",
              "      <td>1.000</td>\n",
              "      <td>0.000</td>\n",
              "      <td>1.000</td>\n",
              "      <td>1.000</td>\n",
              "      <td>0.000</td>\n",
              "      <td>1.000</td>\n",
              "      <td>1.000</td>\n",
              "      <td>1.000</td>\n",
              "    </tr>\n",
              "    <tr>\n",
              "      <th>75%</th>\n",
              "      <td>1.137710e+07</td>\n",
              "      <td>-0.010</td>\n",
              "      <td>9.492</td>\n",
              "      <td>9.374</td>\n",
              "      <td>-0.018</td>\n",
              "      <td>9.492</td>\n",
              "      <td>67.250</td>\n",
              "      <td>3.808</td>\n",
              "      <td>1.000</td>\n",
              "      <td>0.000</td>\n",
              "      <td>1.000</td>\n",
              "      <td>1.000</td>\n",
              "      <td>0.000</td>\n",
              "      <td>1.000</td>\n",
              "      <td>1.000</td>\n",
              "      <td>1.000</td>\n",
              "    </tr>\n",
              "    <tr>\n",
              "      <th>max</th>\n",
              "      <td>1.516947e+07</td>\n",
              "      <td>10.676</td>\n",
              "      <td>10.302</td>\n",
              "      <td>10.288</td>\n",
              "      <td>9.844</td>\n",
              "      <td>10.300</td>\n",
              "      <td>89.050</td>\n",
              "      <td>9.295</td>\n",
              "      <td>1.000</td>\n",
              "      <td>1.000</td>\n",
              "      <td>1.000</td>\n",
              "      <td>1.000</td>\n",
              "      <td>1.000</td>\n",
              "      <td>1.000</td>\n",
              "      <td>1.000</td>\n",
              "      <td>1.000</td>\n",
              "    </tr>\n",
              "  </tbody>\n",
              "</table>\n",
              "</div>\n",
              "    <div class=\"colab-df-buttons\">\n",
              "\n",
              "  <div class=\"colab-df-container\">\n",
              "    <button class=\"colab-df-convert\" onclick=\"convertToInteractive('df-71d0f8a7-2ffc-4388-8fa9-6bed00e37bdc')\"\n",
              "            title=\"Convert this dataframe to an interactive table.\"\n",
              "            style=\"display:none;\">\n",
              "\n",
              "  <svg xmlns=\"http://www.w3.org/2000/svg\" height=\"24px\" viewBox=\"0 -960 960 960\">\n",
              "    <path d=\"M120-120v-720h720v720H120Zm60-500h600v-160H180v160Zm220 220h160v-160H400v160Zm0 220h160v-160H400v160ZM180-400h160v-160H180v160Zm440 0h160v-160H620v160ZM180-180h160v-160H180v160Zm440 0h160v-160H620v160Z\"/>\n",
              "  </svg>\n",
              "    </button>\n",
              "\n",
              "  <style>\n",
              "    .colab-df-container {\n",
              "      display:flex;\n",
              "      gap: 12px;\n",
              "    }\n",
              "\n",
              "    .colab-df-convert {\n",
              "      background-color: #E8F0FE;\n",
              "      border: none;\n",
              "      border-radius: 50%;\n",
              "      cursor: pointer;\n",
              "      display: none;\n",
              "      fill: #1967D2;\n",
              "      height: 32px;\n",
              "      padding: 0 0 0 0;\n",
              "      width: 32px;\n",
              "    }\n",
              "\n",
              "    .colab-df-convert:hover {\n",
              "      background-color: #E2EBFA;\n",
              "      box-shadow: 0px 1px 2px rgba(60, 64, 67, 0.3), 0px 1px 3px 1px rgba(60, 64, 67, 0.15);\n",
              "      fill: #174EA6;\n",
              "    }\n",
              "\n",
              "    .colab-df-buttons div {\n",
              "      margin-bottom: 4px;\n",
              "    }\n",
              "\n",
              "    [theme=dark] .colab-df-convert {\n",
              "      background-color: #3B4455;\n",
              "      fill: #D2E3FC;\n",
              "    }\n",
              "\n",
              "    [theme=dark] .colab-df-convert:hover {\n",
              "      background-color: #434B5C;\n",
              "      box-shadow: 0px 1px 3px 1px rgba(0, 0, 0, 0.15);\n",
              "      filter: drop-shadow(0px 1px 2px rgba(0, 0, 0, 0.3));\n",
              "      fill: #FFFFFF;\n",
              "    }\n",
              "  </style>\n",
              "\n",
              "    <script>\n",
              "      const buttonEl =\n",
              "        document.querySelector('#df-71d0f8a7-2ffc-4388-8fa9-6bed00e37bdc button.colab-df-convert');\n",
              "      buttonEl.style.display =\n",
              "        google.colab.kernel.accessAllowed ? 'block' : 'none';\n",
              "\n",
              "      async function convertToInteractive(key) {\n",
              "        const element = document.querySelector('#df-71d0f8a7-2ffc-4388-8fa9-6bed00e37bdc');\n",
              "        const dataTable =\n",
              "          await google.colab.kernel.invokeFunction('convertToInteractive',\n",
              "                                                    [key], {});\n",
              "        if (!dataTable) return;\n",
              "\n",
              "        const docLinkHtml = 'Like what you see? Visit the ' +\n",
              "          '<a target=\"_blank\" href=https://colab.research.google.com/notebooks/data_table.ipynb>data table notebook</a>'\n",
              "          + ' to learn more about interactive tables.';\n",
              "        element.innerHTML = '';\n",
              "        dataTable['output_type'] = 'display_data';\n",
              "        await google.colab.output.renderOutput(dataTable, element);\n",
              "        const docLink = document.createElement('div');\n",
              "        docLink.innerHTML = docLinkHtml;\n",
              "        element.appendChild(docLink);\n",
              "      }\n",
              "    </script>\n",
              "  </div>\n",
              "\n",
              "\n",
              "<div id=\"df-1089df0e-0e80-4f8f-9f9a-5234c58af30b\">\n",
              "  <button class=\"colab-df-quickchart\" onclick=\"quickchart('df-1089df0e-0e80-4f8f-9f9a-5234c58af30b')\"\n",
              "            title=\"Suggest charts\"\n",
              "            style=\"display:none;\">\n",
              "\n",
              "<svg xmlns=\"http://www.w3.org/2000/svg\" height=\"24px\"viewBox=\"0 0 24 24\"\n",
              "     width=\"24px\">\n",
              "    <g>\n",
              "        <path d=\"M19 3H5c-1.1 0-2 .9-2 2v14c0 1.1.9 2 2 2h14c1.1 0 2-.9 2-2V5c0-1.1-.9-2-2-2zM9 17H7v-7h2v7zm4 0h-2V7h2v10zm4 0h-2v-4h2v4z\"/>\n",
              "    </g>\n",
              "</svg>\n",
              "  </button>\n",
              "\n",
              "<style>\n",
              "  .colab-df-quickchart {\n",
              "      --bg-color: #E8F0FE;\n",
              "      --fill-color: #1967D2;\n",
              "      --hover-bg-color: #E2EBFA;\n",
              "      --hover-fill-color: #174EA6;\n",
              "      --disabled-fill-color: #AAA;\n",
              "      --disabled-bg-color: #DDD;\n",
              "  }\n",
              "\n",
              "  [theme=dark] .colab-df-quickchart {\n",
              "      --bg-color: #3B4455;\n",
              "      --fill-color: #D2E3FC;\n",
              "      --hover-bg-color: #434B5C;\n",
              "      --hover-fill-color: #FFFFFF;\n",
              "      --disabled-bg-color: #3B4455;\n",
              "      --disabled-fill-color: #666;\n",
              "  }\n",
              "\n",
              "  .colab-df-quickchart {\n",
              "    background-color: var(--bg-color);\n",
              "    border: none;\n",
              "    border-radius: 50%;\n",
              "    cursor: pointer;\n",
              "    display: none;\n",
              "    fill: var(--fill-color);\n",
              "    height: 32px;\n",
              "    padding: 0;\n",
              "    width: 32px;\n",
              "  }\n",
              "\n",
              "  .colab-df-quickchart:hover {\n",
              "    background-color: var(--hover-bg-color);\n",
              "    box-shadow: 0 1px 2px rgba(60, 64, 67, 0.3), 0 1px 3px 1px rgba(60, 64, 67, 0.15);\n",
              "    fill: var(--button-hover-fill-color);\n",
              "  }\n",
              "\n",
              "  .colab-df-quickchart-complete:disabled,\n",
              "  .colab-df-quickchart-complete:disabled:hover {\n",
              "    background-color: var(--disabled-bg-color);\n",
              "    fill: var(--disabled-fill-color);\n",
              "    box-shadow: none;\n",
              "  }\n",
              "\n",
              "  .colab-df-spinner {\n",
              "    border: 2px solid var(--fill-color);\n",
              "    border-color: transparent;\n",
              "    border-bottom-color: var(--fill-color);\n",
              "    animation:\n",
              "      spin 1s steps(1) infinite;\n",
              "  }\n",
              "\n",
              "  @keyframes spin {\n",
              "    0% {\n",
              "      border-color: transparent;\n",
              "      border-bottom-color: var(--fill-color);\n",
              "      border-left-color: var(--fill-color);\n",
              "    }\n",
              "    20% {\n",
              "      border-color: transparent;\n",
              "      border-left-color: var(--fill-color);\n",
              "      border-top-color: var(--fill-color);\n",
              "    }\n",
              "    30% {\n",
              "      border-color: transparent;\n",
              "      border-left-color: var(--fill-color);\n",
              "      border-top-color: var(--fill-color);\n",
              "      border-right-color: var(--fill-color);\n",
              "    }\n",
              "    40% {\n",
              "      border-color: transparent;\n",
              "      border-right-color: var(--fill-color);\n",
              "      border-top-color: var(--fill-color);\n",
              "    }\n",
              "    60% {\n",
              "      border-color: transparent;\n",
              "      border-right-color: var(--fill-color);\n",
              "    }\n",
              "    80% {\n",
              "      border-color: transparent;\n",
              "      border-right-color: var(--fill-color);\n",
              "      border-bottom-color: var(--fill-color);\n",
              "    }\n",
              "    90% {\n",
              "      border-color: transparent;\n",
              "      border-bottom-color: var(--fill-color);\n",
              "    }\n",
              "  }\n",
              "</style>\n",
              "\n",
              "  <script>\n",
              "    async function quickchart(key) {\n",
              "      const quickchartButtonEl =\n",
              "        document.querySelector('#' + key + ' button');\n",
              "      quickchartButtonEl.disabled = true;  // To prevent multiple clicks.\n",
              "      quickchartButtonEl.classList.add('colab-df-spinner');\n",
              "      try {\n",
              "        const charts = await google.colab.kernel.invokeFunction(\n",
              "            'suggestCharts', [key], {});\n",
              "      } catch (error) {\n",
              "        console.error('Error during call to suggestCharts:', error);\n",
              "      }\n",
              "      quickchartButtonEl.classList.remove('colab-df-spinner');\n",
              "      quickchartButtonEl.classList.add('colab-df-quickchart-complete');\n",
              "    }\n",
              "    (() => {\n",
              "      let quickchartButtonEl =\n",
              "        document.querySelector('#df-1089df0e-0e80-4f8f-9f9a-5234c58af30b button');\n",
              "      quickchartButtonEl.style.display =\n",
              "        google.colab.kernel.accessAllowed ? 'block' : 'none';\n",
              "    })();\n",
              "  </script>\n",
              "</div>\n",
              "\n",
              "    </div>\n",
              "  </div>\n"
            ],
            "application/vnd.google.colaboratory.intrinsic+json": {
              "type": "dataframe",
              "summary": "{\n  \"name\": \"data\",\n  \"rows\": 8,\n  \"fields\": [\n    {\n      \"column\": \"Unnamed: 0\",\n      \"properties\": {\n        \"dtype\": \"number\",\n        \"std\": 5073253.320725678,\n        \"min\": 0.0,\n        \"max\": 15169470.0,\n        \"num_unique_values\": 7,\n        \"samples\": [\n          1516948.0,\n          7584735.0,\n          11377102.5\n        ],\n        \"semantic_type\": \"\",\n        \"description\": \"\"\n      }\n    },\n    {\n      \"column\": \"TP2\",\n      \"properties\": {\n        \"dtype\": \"number\",\n        \"std\": 536321.339686471,\n        \"min\": -0.032,\n        \"max\": 1516948.0,\n        \"num_unique_values\": 8,\n        \"samples\": [\n          1.368,\n          -0.012,\n          1516948.0\n        ],\n        \"semantic_type\": \"\",\n        \"description\": \"\"\n      }\n    },\n    {\n      \"column\": \"TP3\",\n      \"properties\": {\n        \"dtype\": \"number\",\n        \"std\": 536319.704604829,\n        \"min\": 0.639,\n        \"max\": 1516948.0,\n        \"num_unique_values\": 8,\n        \"samples\": [\n          8.985,\n          8.96,\n          1516948.0\n        ],\n        \"semantic_type\": \"\",\n        \"description\": \"\"\n      }\n    },\n    {\n      \"column\": \"H1\",\n      \"properties\": {\n        \"dtype\": \"number\",\n        \"std\": 536319.7063696081,\n        \"min\": -0.036,\n        \"max\": 1516948.0,\n        \"num_unique_values\": 8,\n        \"samples\": [\n          7.568,\n          8.784,\n          1516948.0\n        ],\n        \"semantic_type\": \"\",\n        \"description\": \"\"\n      }\n    },\n    {\n      \"column\": \"DV_pressure\",\n      \"properties\": {\n        \"dtype\": \"number\",\n        \"std\": 536321.5940919145,\n        \"min\": -0.032,\n        \"max\": 1516948.0,\n        \"num_unique_values\": 8,\n        \"samples\": [\n          0.056,\n          -0.02,\n          1516948.0\n        ],\n        \"semantic_type\": \"\",\n        \"description\": \"\"\n      }\n    },\n    {\n      \"column\": \"Reservoirs\",\n      \"properties\": {\n        \"dtype\": \"number\",\n        \"std\": 536319.7055645036,\n        \"min\": 0.638,\n        \"max\": 1516948.0,\n        \"num_unique_values\": 8,\n        \"samples\": [\n          8.985,\n          8.96,\n          1516948.0\n        ],\n        \"semantic_type\": \"\",\n        \"description\": \"\"\n      }\n    },\n    {\n      \"column\": \"Oil_temperature\",\n      \"properties\": {\n        \"dtype\": \"number\",\n        \"std\": 536303.8592825934,\n        \"min\": 6.516,\n        \"max\": 1516948.0,\n        \"num_unique_values\": 8,\n        \"samples\": [\n          62.644,\n          62.7,\n          1516948.0\n        ],\n        \"semantic_type\": \"\",\n        \"description\": \"\"\n      }\n    },\n    {\n      \"column\": \"Motor_current\",\n      \"properties\": {\n        \"dtype\": \"number\",\n        \"std\": 536321.2218485883,\n        \"min\": 0.02,\n        \"max\": 1516948.0,\n        \"num_unique_values\": 8,\n        \"samples\": [\n          2.05,\n          0.045,\n          1516948.0\n        ],\n        \"semantic_type\": \"\",\n        \"description\": \"\"\n      }\n    },\n    {\n      \"column\": \"COMP\",\n      \"properties\": {\n        \"dtype\": \"number\",\n        \"std\": 536321.8458111066,\n        \"min\": 0.0,\n        \"max\": 1516948.0,\n        \"num_unique_values\": 5,\n        \"samples\": [\n          0.837,\n          1.0,\n          0.369\n        ],\n        \"semantic_type\": \"\",\n        \"description\": \"\"\n      }\n    },\n    {\n      \"column\": \"DV_eletric\",\n      \"properties\": {\n        \"dtype\": \"number\",\n        \"std\": 536322.0315781411,\n        \"min\": 0.0,\n        \"max\": 1516948.0,\n        \"num_unique_values\": 5,\n        \"samples\": [\n          0.161,\n          1.0,\n          0.367\n        ],\n        \"semantic_type\": \"\",\n        \"description\": \"\"\n      }\n    },\n    {\n      \"column\": \"Towers\",\n      \"properties\": {\n        \"dtype\": \"number\",\n        \"std\": 536321.8465182274,\n        \"min\": 0.0,\n        \"max\": 1516948.0,\n        \"num_unique_values\": 5,\n        \"samples\": [\n          0.92,\n          1.0,\n          0.272\n        ],\n        \"semantic_type\": \"\",\n        \"description\": \"\"\n      }\n    },\n    {\n      \"column\": \"MPG\",\n      \"properties\": {\n        \"dtype\": \"number\",\n        \"std\": 536321.8458111061,\n        \"min\": 0.0,\n        \"max\": 1516948.0,\n        \"num_unique_values\": 5,\n        \"samples\": [\n          0.833,\n          1.0,\n          0.373\n        ],\n        \"semantic_type\": \"\",\n        \"description\": \"\"\n      }\n    },\n    {\n      \"column\": \"LPS\",\n      \"properties\": {\n        \"dtype\": \"number\",\n        \"std\": 536322.0551652052,\n        \"min\": 0.0,\n        \"max\": 1516948.0,\n        \"num_unique_values\": 5,\n        \"samples\": [\n          0.003,\n          1.0,\n          0.058\n        ],\n        \"semantic_type\": \"\",\n        \"description\": \"\"\n      }\n    },\n    {\n      \"column\": \"Pressure_switch\",\n      \"properties\": {\n        \"dtype\": \"number\",\n        \"std\": 536321.8520235893,\n        \"min\": 0.0,\n        \"max\": 1516948.0,\n        \"num_unique_values\": 5,\n        \"samples\": [\n          0.991,\n          1.0,\n          0.092\n        ],\n        \"semantic_type\": \"\",\n        \"description\": \"\"\n      }\n    },\n    {\n      \"column\": \"Oil_level\",\n      \"properties\": {\n        \"dtype\": \"number\",\n        \"std\": 536321.846215178,\n        \"min\": 0.0,\n        \"max\": 1516948.0,\n        \"num_unique_values\": 5,\n        \"samples\": [\n          0.904,\n          1.0,\n          0.294\n        ],\n        \"semantic_type\": \"\",\n        \"description\": \"\"\n      }\n    },\n    {\n      \"column\": \"Caudal_impulses\",\n      \"properties\": {\n        \"dtype\": \"number\",\n        \"std\": 536321.8471243235,\n        \"min\": 0.0,\n        \"max\": 1516948.0,\n        \"num_unique_values\": 5,\n        \"samples\": [\n          0.937,\n          1.0,\n          0.243\n        ],\n        \"semantic_type\": \"\",\n        \"description\": \"\"\n      }\n    }\n  ]\n}"
            }
          },
          "metadata": {},
          "execution_count": 15
        }
      ]
    },
    {
      "cell_type": "markdown",
      "source": [
        "### Limpieza de datos y preprocesamiento"
      ],
      "metadata": {
        "id": "vAY0IjvHaSFo"
      }
    },
    {
      "cell_type": "markdown",
      "source": [
        "#### Eliminamos la columna innecesaria"
      ],
      "metadata": {
        "id": "TJ7sQebZaYkr"
      }
    },
    {
      "cell_type": "code",
      "source": [
        "data = data.drop(columns='Unnamed: 0')"
      ],
      "metadata": {
        "id": "s5eWMcc6XbTu"
      },
      "execution_count": 16,
      "outputs": []
    },
    {
      "cell_type": "markdown",
      "source": [
        "#### Transformamos la columna de tiempo en un tipo de variable `datetime`"
      ],
      "metadata": {
        "id": "uSBLIE3eafwx"
      }
    },
    {
      "cell_type": "code",
      "source": [
        "data['timestamp'] = pd.to_datetime(data['timestamp'])"
      ],
      "metadata": {
        "id": "_s1D2d8YYvb1"
      },
      "execution_count": 17,
      "outputs": []
    },
    {
      "cell_type": "markdown",
      "source": [
        "#### Añadir columna de variable categórica objetivo\n",
        "\n",
        "El dataset no tiene el reporte de fallo por lo que es necesario añadirla, la información necesaria se provee en la siguiente tabla:"
      ],
      "metadata": {
        "id": "0AOcr48baxnx"
      }
    },
    {
      "cell_type": "markdown",
      "source": [
        "\n",
        "| Nr. | Hora de Inicio     | Hora de Fin       | Dur. (min)     | Severidad   |\n",
        "|-----|------------------|------------------|-----------|-------------|\n",
        "| #1  | 4/12/2020 11:50 | 4/12/2020 23:30 | 700       | Estrés alto |\n",
        "| #2  | 4/18/2020 00:00 | 4/18/2020 23:59 | 1439      | Estrés alto |\n",
        "| #3  | 4/19/2020 00:00 | 4/19/2020 01:30 | 90        | Estrés alto |\n",
        "| #4  | 4/29/2020 03:20 | 4/29/2020 04:00 | 40        | Estrés alto |\n",
        "| #5  | 4/29/2020 22:00 | 4/29/2020 22:20 | 20        | Estrés alto |\n",
        "| #6  | 5/13/2020 14:00 | 5/13/2020 23:59 | 599       | Estrés alto |\n",
        "| #7  | 5/18/2020 05:00 | 5/18/2020 05:30 | 30        | Estrés alto |\n",
        "| #8  | 5/19/2020 10:10 | 5/19/2020 11:00 | 50        | Estrés alto |\n",
        "| #9  | 5/19/2020 22:10 | 5/19/2020 23:59 | 109       | Estrés alto |\n",
        "| #10 | 5/20/2020 00:00 | 5/20/2020 20:00 | 1200      | Estrés alto |\n",
        "| #11 | 5/23/2020 09:50 | 5/23/2020 10:10 | 20        | Estrés alto |\n",
        "| #12 | 5/29/2020 23:30 | 5/29/2020 23:59 | 29        | Estrés alto |\n",
        "| #13 | 5/30/2020 00:00 | 5/30/2020 06:00 | 360       | Estrés alto |\n",
        "| #14 | 6/01/2020 15:00 | 6/01/2020 15:40 | 40        | Estrés alto |\n",
        "| #15 | 6/03/2020 10:00 | 6/03/2020 11:00 | 60        | Estrés alto |\n",
        "| #16 | 6/05/2020 10:00 | 6/05/2020 23:59 | 839       | Estrés alto |\n",
        "| #17 | 6/06/2020 00:00 | 6/06/2020 23:59 | 1439      | Estrés alto |\n",
        "| #18 | 6/07/2020 00:00 | 6/07/2020 14:30 | 870       | Estrés alto |\n",
        "| #19 | 7/08/2020 17:30 | 7/08/2020 19:00 | 90        | Estrés alto |\n",
        "| #20 | 7/15/2020 14:30 | 7/15/2020 19:00 | 270       | Estrés medio |\n",
        "| #21 | 7/17/2020 04:30 | 7/17/2020 05:30 | 60        | Estrés alto |\n"
      ],
      "metadata": {
        "id": "p-wS1IcbxpQl"
      }
    },
    {
      "cell_type": "markdown",
      "source": [
        "Convertimos los tiempos de inicio y término de las fallas a valores tipo `datetime` con el objetivo de poder comparar por rangos con los datos de la tabla."
      ],
      "metadata": {
        "id": "4ZgbyNL5fvsK"
      }
    },
    {
      "cell_type": "code",
      "source": [
        "start_time = pd.to_datetime([\"2020-04-12 11:50:00\", \"2020-04-18 00:00:00\", \"2020-04-29 03:20:00\", \"2020-04-29 22:00:00\", \"2020-05-13 14:00:00\", \"2020-05-18 05:00:00\", \"2020-05-19 10:10:00\", \"2020-05-19 22:10:00\", \"2020-05-23 09:50:00\", \"2020-05-29 23:30:00\", \"2020-06-01 15:00:00\", \"2020-06-03 10:00:00\", \"2020-06-05 10:00:00\", \"2020-07-08 17:30:00\", \"2020-07-15 14:30:00\", \"2020-07-17 04:30:00\"])\n",
        "end_time = pd.to_datetime([\"2020-04-12 23:30:00\", \"2020-04-19 01:30:00\", \"2020-04-29 04:00:00\", \"2020-04-29 22:20:00\", \"2020-05-13 23:59:00\", \"2020-05-18 05:30:00\", \"2020-05-19 11:00:00\", \"2020-05-20 20:00:00\", \"2020-05-23 10:10:00\", \"2020-05-30 06:00:00\", \"2020-06-01 15:40:00\", \"2020-06-03 11:00:00\", \"2020-06-07 14:30:00\", \"2020-07-08 19:00:00\", \"2020-07-15 19:00:00\", \"2020-07-17 05:30:00\"])"
      ],
      "metadata": {
        "id": "RqzzinG0vORD"
      },
      "execution_count": 23,
      "outputs": []
    },
    {
      "cell_type": "markdown",
      "source": [
        "Creamos una variable llamada failure que almacenará si en ese momento se tiene una falla o no. La variable será binaria, y tendrá el valor de 0 si no hay falla en ese tiempo o de 1 si sí la hay."
      ],
      "metadata": {
        "id": "_K4cnj8JgEF1"
      }
    },
    {
      "cell_type": "code",
      "source": [
        "data['failure'] = 0 # Iniciamos la columna con ceros"
      ],
      "metadata": {
        "id": "tBLCl9XNe4aT"
      },
      "execution_count": 24,
      "outputs": []
    },
    {
      "cell_type": "code",
      "source": [
        "# Si se encuentra entre la fecha y hora de inicio y término indicadas se le asigna un 1 a esas filas\n",
        "for st, et in zip(start_time, end_time):\n",
        "  data.loc[(data['timestamp'] >= st) & (data['timestamp'] <= et), 'failure'] = 1"
      ],
      "metadata": {
        "id": "Y98TEIsBeYHS"
      },
      "execution_count": 25,
      "outputs": []
    },
    {
      "cell_type": "markdown",
      "source": [
        "Hay un total de 48,650 valores registrados como fallas y 1,468,298 valores sin falla.\n"
      ],
      "metadata": {
        "id": "KiPUEe16hCbf"
      }
    },
    {
      "cell_type": "code",
      "source": [
        "data['failure'].sum(), data['failure'].shape[0] - data['failure'].sum()"
      ],
      "metadata": {
        "id": "Q7DISHAdfZXv",
        "outputId": "31954791-1ab1-4000-8612-a0b782c5a608",
        "colab": {
          "base_uri": "https://localhost:8080/"
        }
      },
      "execution_count": 26,
      "outputs": [
        {
          "output_type": "execute_result",
          "data": {
            "text/plain": [
              "(48650, 1468298)"
            ]
          },
          "metadata": {},
          "execution_count": 26
        }
      ]
    },
    {
      "cell_type": "markdown",
      "source": [
        "Los datos están imbalanceados. Se tendrá que implementar una técnica para que esto no impacte en el apartado de clasificación."
      ],
      "metadata": {
        "id": "H5kwzhLgmDy8"
      }
    },
    {
      "cell_type": "code",
      "source": [
        "data['failure'].sum() / data['failure'].shape[0] * 100, \\\n",
        "(data['failure'].shape[0] - data['failure'].sum()) / data['failure'].shape[0] * 100"
      ],
      "metadata": {
        "id": "j1ipdzHOkjRd",
        "outputId": "60b277a0-9d39-4723-85b9-bcea2f84da85",
        "colab": {
          "base_uri": "https://localhost:8080/"
        }
      },
      "execution_count": 27,
      "outputs": [
        {
          "output_type": "execute_result",
          "data": {
            "text/plain": [
              "(3.2070974087443997, 96.7929025912556)"
            ]
          },
          "metadata": {},
          "execution_count": 27
        }
      ]
    },
    {
      "cell_type": "code",
      "source": [
        "data.columns"
      ],
      "metadata": {
        "colab": {
          "base_uri": "https://localhost:8080/"
        },
        "id": "EHyD3o50I2N2",
        "outputId": "c6e75ffb-9396-4c0e-f678-cf6bc4b94574"
      },
      "execution_count": 28,
      "outputs": [
        {
          "output_type": "execute_result",
          "data": {
            "text/plain": [
              "Index(['timestamp', 'TP2', 'TP3', 'H1', 'DV_pressure', 'Reservoirs',\n",
              "       'Oil_temperature', 'Motor_current', 'COMP', 'DV_eletric', 'Towers',\n",
              "       'MPG', 'LPS', 'Pressure_switch', 'Oil_level', 'Caudal_impulses',\n",
              "       'failure'],\n",
              "      dtype='object')"
            ]
          },
          "metadata": {},
          "execution_count": 28
        }
      ]
    },
    {
      "cell_type": "markdown",
      "source": [
        "#### Hacemos la columna de tiempo el índice del `DataFrame`"
      ],
      "metadata": {
        "id": "oowBVwEPADAB"
      }
    },
    {
      "cell_type": "code",
      "source": [
        "data = data.set_index('timestamp')"
      ],
      "metadata": {
        "id": "UZ9FNOKs2e-N"
      },
      "execution_count": 42,
      "outputs": []
    },
    {
      "cell_type": "code",
      "source": [
        "i=12\n",
        "data.loc[(data.index >= start_time[i]) & (data.index <= end_time[i]), 'TP2'].plot()"
      ],
      "metadata": {
        "colab": {
          "base_uri": "https://localhost:8080/",
          "height": 453
        },
        "id": "X3JP9MWO1UWw",
        "outputId": "0a64836f-8182-4a07-8b2e-b8600ad37f30"
      },
      "execution_count": 56,
      "outputs": [
        {
          "output_type": "execute_result",
          "data": {
            "text/plain": [
              "<Axes: xlabel='timestamp'>"
            ]
          },
          "metadata": {},
          "execution_count": 56
        },
        {
          "output_type": "display_data",
          "data": {
            "text/plain": [
              "<Figure size 640x480 with 1 Axes>"
            ],
            "image/png": "[encoded data removed]"
          },
          "metadata": {}
        }
      ]
    },
    {
      "cell_type": "code",
      "source": [
        "data.iloc[10000*89:10000*91]['TP2'].plot()"
      ],
      "metadata": {
        "colab": {
          "base_uri": "https://localhost:8080/",
          "height": 453
        },
        "id": "4dKX0N942NFE",
        "outputId": "b799a37c-b7f8-4215-e27c-8605bd9f6c0f"
      },
      "execution_count": 58,
      "outputs": [
        {
          "output_type": "execute_result",
          "data": {
            "text/plain": [
              "<Axes: xlabel='timestamp'>"
            ]
          },
          "metadata": {},
          "execution_count": 58
        },
        {
          "output_type": "display_data",
          "data": {
            "text/plain": [
              "<Figure size 640x480 with 1 Axes>"
            ],
            "image/png": "[encoded data removed]"
          },
          "metadata": {}
        }
      ]
    },
    {
      "cell_type": "markdown",
      "source": [
        "***"
      ],
      "metadata": {
        "id": "WI530r1Pus6L"
      }
    },
    {
      "cell_type": "markdown",
      "source": [
        "\n",
        "## 5 Visualización de resultados [<small>[volver]</small>](#Contenido)\n",
        "> Para cada uno de los temas del curso, realizar la estimación y predicción de errores de los algoritmos propuestos. Al final luego de obtener los resultados de cada tema realizar una comparación de los resultados lineales y no lineales y concluir los distintos resultados."
      ],
      "metadata": {
        "id": "wqCgO-RlGAbL"
      }
    },
    {
      "cell_type": "markdown",
      "source": [
        "***\n",
        "\n",
        "## 6 Conclusiones [<small>[volver]</small>](#Contenido)\n",
        "> Mucho cuidado, las conclusiones no son cualquier cosa. Se debe concluir respecto a los objetivos planteados de acuerdo a los resultados obtenidos.\n",
        "\n",
        "***"
      ],
      "metadata": {
        "id": "CapzHoHNM9zy"
      }
    },
    {
      "cell_type": "markdown",
      "source": [
        "## 7 Referencias [<small>[volver]</small>](#Contenido)\n",
        "\n",
        "- Davari, N., Veloso, B., Ribeiro, R. P., Pereira, P. M., & Gama, J. (2021). Predictive maintenance based on anomaly detection using deep learning for air production unit in the railway industry. *2021 IEEE 8th International Conference on Data Science and Advanced Analytics (DSAA)* (pp. 1-10). IEEE. [https://doi.org/10.1109/DSAA53316.2021.9564181](https://doi.org/10.1109/DSAA53316.2021.9564181)\n",
        "- Davari, N., Veloso, B., Ribeiro, R. P., Pereira, P. M., & Gama, J. (2023). *MetroPT-3 Dataset*. UCI Machine Learning Repository. [https://doi.org/10.24432/C5VW3R](https://doi.org/10.24432/C5VW3R).\n"
      ],
      "metadata": {
        "id": "3OwmfHV3NBIE"
      }
    }
  ],
  "metadata": {
    "language_info": {
      "name": "python"
    },
    "colab": {
      "provenance": [],
      "toc_visible": true
    },
    "kernelspec": {
      "name": "python3",
      "display_name": "Python 3"
    }
  },
  "nbformat": 4,
  "nbformat_minor": 0
}